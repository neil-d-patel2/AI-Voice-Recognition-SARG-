{
 "cells": [
  {
   "cell_type": "code",
   "execution_count": 1,
   "metadata": {},
   "outputs": [
    {
     "data": {
      "text/plain": [
       "'/Users/neil/Desktop/SARG project'"
      ]
     },
     "execution_count": 1,
     "metadata": {},
     "output_type": "execute_result"
    }
   ],
   "source": [
    "import os\n",
    "os.getcwd()"
   ]
  },
  {
   "cell_type": "code",
   "execution_count": 4,
   "metadata": {},
   "outputs": [
    {
     "name": "stdout",
     "output_type": "stream",
     "text": [
      "Announcer said\n",
      " Hello, I'm going to test if this output.mp3 file will properly read my voice. I will then see if OpenAI's whisper will properly translate my voice into text.\n"
     ]
    }
   ],
   "source": [
    "from speech import transcribe_audio\n",
    "\n",
    "text = transcribe_audio(\"output.mp3\")\n",
    "print(\"Announcer said\")\n",
    "print(text)"
   ]
  },
  {
   "cell_type": "code",
   "execution_count": 11,
   "metadata": {},
   "outputs": [
    {
     "name": "stderr",
     "output_type": "stream",
     "text": [
      "/var/folders/vq/n_4npqf12jd4pw_6zf44fgn40000gn/T/ipykernel_91734/2571867226.py:13: LangChainDeprecationWarning: The method `Chain.run` was deprecated in langchain 0.1.0 and will be removed in 1.0. Use :meth:`~invoke` instead.\n",
      "  chain.run(\"American\")\n"
     ]
    },
    {
     "data": {
      "text/plain": [
       "\"Here are some fancy name suggestions for an American-style restaurant:\\n\\n1. **Liberty Table**: evokes the spirit of freedom and the idea of gathering around a table.\\n2. **Starlight Diner**: suggests a classic American diner experience with a touch of sophistication.\\n3. **Main Street Eats**: implies a casual, welcoming atmosphere reminiscent of small-town America.\\n4. **Patriot's Grill**: conveys a sense of patriotism and comfort food.\\n5. **The Colonial Kitchen**: hints at a rich history and classic American cuisine.\\n6. **American Harvest**: emphasizes the idea of fresh, locally sourced ingredients.\\n7. **Sunny Side Up Cafe**: adds a playful touch to your restaurant's name.\\n8. **Liberty Tavern**: suggests a cozy, upscale atmosphere with a focus on quality food.\\n9. **The Red, White & Blue Bistro**: incorporates classic American colors and suggests a fine dining experience.\\n10. **Heartland Bistro**: emphasizes the idea of comfort food from the heart of America.\\n\\nWhich one do you like best? Or feel free to use them as inspiration to come up with your own unique name!\""
      ]
     },
     "execution_count": 11,
     "metadata": {},
     "output_type": "execute_result"
    }
   ],
   "source": [
    "from langchain_ollama import OllamaLLM\n",
    "from langchain.prompts import PromptTemplate\n",
    "from langchain.chains import LLMChain\n",
    "\n",
    "llm = OllamaLLM(model = \"llama3.1\")\n",
    "\n",
    "temp_name = PromptTemplate(input_variables= ['cuisine'], template = \"I want to open restaurant for {cuisine} give me a fancy name for it\")\n",
    "\n",
    "temp_name.format(cuisine = \"italian\")\n",
    "\n",
    "chain = LLMChain(llm = llm, prompt = temp_name)\n",
    "\n",
    "chain.run(\"American\")\n",
    "\n"
   ]
  },
  {
   "cell_type": "code",
   "execution_count": null,
   "metadata": {},
   "outputs": [],
   "source": [
    "\n"
   ]
  }
 ],
 "metadata": {
  "kernelspec": {
   "display_name": "Python 3",
   "language": "python",
   "name": "python3"
  },
  "language_info": {
   "codemirror_mode": {
    "name": "ipython",
    "version": 3
   },
   "file_extension": ".py",
   "mimetype": "text/x-python",
   "name": "python",
   "nbconvert_exporter": "python",
   "pygments_lexer": "ipython3",
   "version": "3.9.6"
  }
 },
 "nbformat": 4,
 "nbformat_minor": 2
}
