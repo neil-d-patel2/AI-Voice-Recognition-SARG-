{
 "cells": [
  {
   "cell_type": "code",
   "execution_count": 1,
   "metadata": {},
   "outputs": [
    {
     "data": {
      "text/plain": [
       "'/Users/neil/Desktop/SARG project'"
      ]
     },
     "execution_count": 1,
     "metadata": {},
     "output_type": "execute_result"
    }
   ],
   "source": [
    "import os\n",
    "os.getcwd()"
   ]
  },
  {
   "cell_type": "code",
   "execution_count": 4,
   "metadata": {},
   "outputs": [
    {
     "name": "stdout",
     "output_type": "stream",
     "text": [
      "Announcer said\n",
      " Hello, I'm going to test if this output.mp3 file will properly read my voice. I will then see if OpenAI's whisper will properly translate my voice into text.\n"
     ]
    }
   ],
   "source": [
    "from speech import transcribe_audio\n",
    "\n",
    "text = transcribe_audio(\"output.mp3\")\n",
    "print(\"Announcer said\")\n",
    "print(text)"
   ]
  },
  {
   "cell_type": "code",
   "execution_count": 11,
   "metadata": {},
   "outputs": [
    {
     "name": "stderr",
     "output_type": "stream",
     "text": [
      "/var/folders/vq/n_4npqf12jd4pw_6zf44fgn40000gn/T/ipykernel_91734/2571867226.py:13: LangChainDeprecationWarning: The method `Chain.run` was deprecated in langchain 0.1.0 and will be removed in 1.0. Use :meth:`~invoke` instead.\n",
      "  chain.run(\"American\")\n"
     ]
    },
    {
     "data": {
      "text/plain": [
       "\"Here are some fancy name suggestions for an American-style restaurant:\\n\\n1. **Liberty Table**: evokes the spirit of freedom and the idea of gathering around a table.\\n2. **Starlight Diner**: suggests a classic American diner experience with a touch of sophistication.\\n3. **Main Street Eats**: implies a casual, welcoming atmosphere reminiscent of small-town America.\\n4. **Patriot's Grill**: conveys a sense of patriotism and comfort food.\\n5. **The Colonial Kitchen**: hints at a rich history and classic American cuisine.\\n6. **American Harvest**: emphasizes the idea of fresh, locally sourced ingredients.\\n7. **Sunny Side Up Cafe**: adds a playful touch to your restaurant's name.\\n8. **Liberty Tavern**: suggests a cozy, upscale atmosphere with a focus on quality food.\\n9. **The Red, White & Blue Bistro**: incorporates classic American colors and suggests a fine dining experience.\\n10. **Heartland Bistro**: emphasizes the idea of comfort food from the heart of America.\\n\\nWhich one do you like best? Or feel free to use them as inspiration to come up with your own unique name!\""
      ]
     },
     "execution_count": 11,
     "metadata": {},
     "output_type": "execute_result"
    }
   ],
   "source": [
    "from langchain_ollama import OllamaLLM\n",
    "from langchain.prompts import PromptTemplate\n",
    "from langchain.chains import LLMChain\n",
    "\n",
    "llm = OllamaLLM(model = \"llama3.1\")\n",
    "\n",
    "temp_name = PromptTemplate(input_variables= ['cuisine'], template = \"I want to open restaurant for {cuisine} give me a fancy name for it\")\n",
    "\n",
    "temp_name.format(cuisine = \"italian\")\n",
    "\n",
    "chain = LLMChain(llm = llm, prompt = temp_name)\n",
    "\n",
    "chain.run(\"American\")\n",
    "\n"
   ]
  },
  {
   "cell_type": "code",
   "execution_count": 1,
   "metadata": {},
   "outputs": [
    {
     "ename": "RuntimeError",
     "evalue": "Failed to load audio: ffmpeg version 8.0 Copyright (c) 2000-2025 the FFmpeg developers\n  built with Apple clang version 16.0.0 (clang-1600.0.26.6)\n  configuration: --prefix=/opt/homebrew/Cellar/ffmpeg/8.0_1 --enable-shared --enable-pthreads --enable-version3 --cc=clang --host-cflags= --host-ldflags='-Wl,-ld_classic' --enable-ffplay --enable-gnutls --enable-gpl --enable-libaom --enable-libaribb24 --enable-libbluray --enable-libdav1d --enable-libharfbuzz --enable-libjxl --enable-libmp3lame --enable-libopus --enable-librav1e --enable-librist --enable-librubberband --enable-libsnappy --enable-libsrt --enable-libssh --enable-libsvtav1 --enable-libtesseract --enable-libtheora --enable-libvidstab --enable-libvmaf --enable-libvorbis --enable-libvpx --enable-libwebp --enable-libx264 --enable-libx265 --enable-libxml2 --enable-libxvid --enable-lzma --enable-libfontconfig --enable-libfreetype --enable-frei0r --enable-libass --enable-libopencore-amrnb --enable-libopencore-amrwb --enable-libopenjpeg --enable-libspeex --enable-libsoxr --enable-libzmq --enable-libzimg --disable-libjack --disable-indev=jack --enable-videotoolbox --enable-audiotoolbox --enable-neon\n  libavutil      60.  8.100 / 60.  8.100\n  libavcodec     62. 11.100 / 62. 11.100\n  libavformat    62.  3.100 / 62.  3.100\n  libavdevice    62.  1.100 / 62.  1.100\n  libavfilter    11.  4.100 / 11.  4.100\n  libswscale      9.  1.100 /  9.  1.100\n  libswresample   6.  1.100 /  6.  1.100\n[in#0 @ 0x14662d5b0] Error opening input: No such file or directory\nError opening input file sampleplay.mp3.\nError opening input files: No such file or directory\n",
     "output_type": "error",
     "traceback": [
      "\u001b[0;31m---------------------------------------------------------------------------\u001b[0m",
      "\u001b[0;31mCalledProcessError\u001b[0m                        Traceback (most recent call last)",
      "File \u001b[0;32m~/Library/Python/3.9/lib/python/site-packages/whisper/audio.py:58\u001b[0m, in \u001b[0;36mload_audio\u001b[0;34m(file, sr)\u001b[0m\n\u001b[1;32m     57\u001b[0m \u001b[38;5;28;01mtry\u001b[39;00m:\n\u001b[0;32m---> 58\u001b[0m     out \u001b[38;5;241m=\u001b[39m \u001b[43mrun\u001b[49m\u001b[43m(\u001b[49m\u001b[43mcmd\u001b[49m\u001b[43m,\u001b[49m\u001b[43m \u001b[49m\u001b[43mcapture_output\u001b[49m\u001b[38;5;241;43m=\u001b[39;49m\u001b[38;5;28;43;01mTrue\u001b[39;49;00m\u001b[43m,\u001b[49m\u001b[43m \u001b[49m\u001b[43mcheck\u001b[49m\u001b[38;5;241;43m=\u001b[39;49m\u001b[38;5;28;43;01mTrue\u001b[39;49;00m\u001b[43m)\u001b[49m\u001b[38;5;241m.\u001b[39mstdout\n\u001b[1;32m     59\u001b[0m \u001b[38;5;28;01mexcept\u001b[39;00m CalledProcessError \u001b[38;5;28;01mas\u001b[39;00m e:\n",
      "File \u001b[0;32m/Library/Developer/CommandLineTools/Library/Frameworks/Python3.framework/Versions/3.9/lib/python3.9/subprocess.py:528\u001b[0m, in \u001b[0;36mrun\u001b[0;34m(input, capture_output, timeout, check, *popenargs, **kwargs)\u001b[0m\n\u001b[1;32m    527\u001b[0m     \u001b[38;5;28;01mif\u001b[39;00m check \u001b[38;5;129;01mand\u001b[39;00m retcode:\n\u001b[0;32m--> 528\u001b[0m         \u001b[38;5;28;01mraise\u001b[39;00m CalledProcessError(retcode, process\u001b[38;5;241m.\u001b[39margs,\n\u001b[1;32m    529\u001b[0m                                  output\u001b[38;5;241m=\u001b[39mstdout, stderr\u001b[38;5;241m=\u001b[39mstderr)\n\u001b[1;32m    530\u001b[0m \u001b[38;5;28;01mreturn\u001b[39;00m CompletedProcess(process\u001b[38;5;241m.\u001b[39margs, retcode, stdout, stderr)\n",
      "\u001b[0;31mCalledProcessError\u001b[0m: Command '['ffmpeg', '-nostdin', '-threads', '0', '-i', 'sampleplay.mp3', '-f', 's16le', '-ac', '1', '-acodec', 'pcm_s16le', '-ar', '16000', '-']' returned non-zero exit status 254.",
      "\nThe above exception was the direct cause of the following exception:\n",
      "\u001b[0;31mRuntimeError\u001b[0m                              Traceback (most recent call last)",
      "Cell \u001b[0;32mIn[1], line 3\u001b[0m\n\u001b[1;32m      1\u001b[0m \u001b[38;5;28;01mfrom\u001b[39;00m\u001b[38;5;250m \u001b[39m\u001b[38;5;21;01mspeech\u001b[39;00m\u001b[38;5;250m \u001b[39m\u001b[38;5;28;01mimport\u001b[39;00m transcribe_audio\\\n\u001b[0;32m----> 3\u001b[0m text \u001b[38;5;241m=\u001b[39m \u001b[43mtranscribe_audio\u001b[49m\u001b[43m(\u001b[49m\u001b[38;5;124;43m\"\u001b[39;49m\u001b[38;5;124;43msampleplay.mp3\u001b[39;49m\u001b[38;5;124;43m\"\u001b[39;49m\u001b[43m)\u001b[49m\n\u001b[1;32m      4\u001b[0m \u001b[38;5;28mprint\u001b[39m(text)\n",
      "File \u001b[0;32m~/Desktop/SARG project/speech.py:9\u001b[0m, in \u001b[0;36mtranscribe_audio\u001b[0;34m(file_path)\u001b[0m\n\u001b[1;32m      6\u001b[0m model \u001b[38;5;241m=\u001b[39m whisper\u001b[38;5;241m.\u001b[39mload_model(\u001b[38;5;124m\"\u001b[39m\u001b[38;5;124mbase\u001b[39m\u001b[38;5;124m\"\u001b[39m)\n\u001b[1;32m      8\u001b[0m \u001b[38;5;66;03m# Transcribe audio\u001b[39;00m\n\u001b[0;32m----> 9\u001b[0m result \u001b[38;5;241m=\u001b[39m \u001b[43mmodel\u001b[49m\u001b[38;5;241;43m.\u001b[39;49m\u001b[43mtranscribe\u001b[49m\u001b[43m(\u001b[49m\u001b[43mfile_path\u001b[49m\u001b[43m,\u001b[49m\u001b[43m \u001b[49m\u001b[43mfp16\u001b[49m\u001b[38;5;241;43m=\u001b[39;49m\u001b[38;5;28;43;01mFalse\u001b[39;49;00m\u001b[43m)\u001b[49m\n\u001b[1;32m     11\u001b[0m \u001b[38;5;250m\u001b[39m\u001b[38;5;124;03m\"\"\"\u001b[39;00m\n\u001b[1;32m     12\u001b[0m \u001b[38;5;124;03mWrite each \"Chunked text into a txt file for parsing\"\u001b[39;00m\n\u001b[1;32m     13\u001b[0m \u001b[38;5;124;03m\"\"\"\u001b[39;00m\n\u001b[1;32m     15\u001b[0m parse \u001b[38;5;241m=\u001b[39m result[\u001b[38;5;124m\"\u001b[39m\u001b[38;5;124mtext\u001b[39m\u001b[38;5;124m\"\u001b[39m]\n",
      "File \u001b[0;32m~/Library/Python/3.9/lib/python/site-packages/whisper/transcribe.py:139\u001b[0m, in \u001b[0;36mtranscribe\u001b[0;34m(model, audio, verbose, temperature, compression_ratio_threshold, logprob_threshold, no_speech_threshold, condition_on_previous_text, initial_prompt, carry_initial_prompt, word_timestamps, prepend_punctuations, append_punctuations, clip_timestamps, hallucination_silence_threshold, **decode_options)\u001b[0m\n\u001b[1;32m    136\u001b[0m     decode_options[\u001b[38;5;124m\"\u001b[39m\u001b[38;5;124mfp16\u001b[39m\u001b[38;5;124m\"\u001b[39m] \u001b[38;5;241m=\u001b[39m \u001b[38;5;28;01mFalse\u001b[39;00m\n\u001b[1;32m    138\u001b[0m \u001b[38;5;66;03m# Pad 30-seconds of silence to the input audio, for slicing\u001b[39;00m\n\u001b[0;32m--> 139\u001b[0m mel \u001b[38;5;241m=\u001b[39m \u001b[43mlog_mel_spectrogram\u001b[49m\u001b[43m(\u001b[49m\u001b[43maudio\u001b[49m\u001b[43m,\u001b[49m\u001b[43m \u001b[49m\u001b[43mmodel\u001b[49m\u001b[38;5;241;43m.\u001b[39;49m\u001b[43mdims\u001b[49m\u001b[38;5;241;43m.\u001b[39;49m\u001b[43mn_mels\u001b[49m\u001b[43m,\u001b[49m\u001b[43m \u001b[49m\u001b[43mpadding\u001b[49m\u001b[38;5;241;43m=\u001b[39;49m\u001b[43mN_SAMPLES\u001b[49m\u001b[43m)\u001b[49m\n\u001b[1;32m    140\u001b[0m content_frames \u001b[38;5;241m=\u001b[39m mel\u001b[38;5;241m.\u001b[39mshape[\u001b[38;5;241m-\u001b[39m\u001b[38;5;241m1\u001b[39m] \u001b[38;5;241m-\u001b[39m N_FRAMES\n\u001b[1;32m    141\u001b[0m content_duration \u001b[38;5;241m=\u001b[39m \u001b[38;5;28mfloat\u001b[39m(content_frames \u001b[38;5;241m*\u001b[39m HOP_LENGTH \u001b[38;5;241m/\u001b[39m SAMPLE_RATE)\n",
      "File \u001b[0;32m~/Library/Python/3.9/lib/python/site-packages/whisper/audio.py:140\u001b[0m, in \u001b[0;36mlog_mel_spectrogram\u001b[0;34m(audio, n_mels, padding, device)\u001b[0m\n\u001b[1;32m    138\u001b[0m \u001b[38;5;28;01mif\u001b[39;00m \u001b[38;5;129;01mnot\u001b[39;00m torch\u001b[38;5;241m.\u001b[39mis_tensor(audio):\n\u001b[1;32m    139\u001b[0m     \u001b[38;5;28;01mif\u001b[39;00m \u001b[38;5;28misinstance\u001b[39m(audio, \u001b[38;5;28mstr\u001b[39m):\n\u001b[0;32m--> 140\u001b[0m         audio \u001b[38;5;241m=\u001b[39m \u001b[43mload_audio\u001b[49m\u001b[43m(\u001b[49m\u001b[43maudio\u001b[49m\u001b[43m)\u001b[49m\n\u001b[1;32m    141\u001b[0m     audio \u001b[38;5;241m=\u001b[39m torch\u001b[38;5;241m.\u001b[39mfrom_numpy(audio)\n\u001b[1;32m    143\u001b[0m \u001b[38;5;28;01mif\u001b[39;00m device \u001b[38;5;129;01mis\u001b[39;00m \u001b[38;5;129;01mnot\u001b[39;00m \u001b[38;5;28;01mNone\u001b[39;00m:\n",
      "File \u001b[0;32m~/Library/Python/3.9/lib/python/site-packages/whisper/audio.py:60\u001b[0m, in \u001b[0;36mload_audio\u001b[0;34m(file, sr)\u001b[0m\n\u001b[1;32m     58\u001b[0m     out \u001b[38;5;241m=\u001b[39m run(cmd, capture_output\u001b[38;5;241m=\u001b[39m\u001b[38;5;28;01mTrue\u001b[39;00m, check\u001b[38;5;241m=\u001b[39m\u001b[38;5;28;01mTrue\u001b[39;00m)\u001b[38;5;241m.\u001b[39mstdout\n\u001b[1;32m     59\u001b[0m \u001b[38;5;28;01mexcept\u001b[39;00m CalledProcessError \u001b[38;5;28;01mas\u001b[39;00m e:\n\u001b[0;32m---> 60\u001b[0m     \u001b[38;5;28;01mraise\u001b[39;00m \u001b[38;5;167;01mRuntimeError\u001b[39;00m(\u001b[38;5;124mf\u001b[39m\u001b[38;5;124m\"\u001b[39m\u001b[38;5;124mFailed to load audio: \u001b[39m\u001b[38;5;132;01m{\u001b[39;00me\u001b[38;5;241m.\u001b[39mstderr\u001b[38;5;241m.\u001b[39mdecode()\u001b[38;5;132;01m}\u001b[39;00m\u001b[38;5;124m\"\u001b[39m) \u001b[38;5;28;01mfrom\u001b[39;00m\u001b[38;5;250m \u001b[39m\u001b[38;5;21;01me\u001b[39;00m\n\u001b[1;32m     62\u001b[0m \u001b[38;5;28;01mreturn\u001b[39;00m np\u001b[38;5;241m.\u001b[39mfrombuffer(out, np\u001b[38;5;241m.\u001b[39mint16)\u001b[38;5;241m.\u001b[39mflatten()\u001b[38;5;241m.\u001b[39mastype(np\u001b[38;5;241m.\u001b[39mfloat32) \u001b[38;5;241m/\u001b[39m \u001b[38;5;241m32768.0\u001b[39m\n",
      "\u001b[0;31mRuntimeError\u001b[0m: Failed to load audio: ffmpeg version 8.0 Copyright (c) 2000-2025 the FFmpeg developers\n  built with Apple clang version 16.0.0 (clang-1600.0.26.6)\n  configuration: --prefix=/opt/homebrew/Cellar/ffmpeg/8.0_1 --enable-shared --enable-pthreads --enable-version3 --cc=clang --host-cflags= --host-ldflags='-Wl,-ld_classic' --enable-ffplay --enable-gnutls --enable-gpl --enable-libaom --enable-libaribb24 --enable-libbluray --enable-libdav1d --enable-libharfbuzz --enable-libjxl --enable-libmp3lame --enable-libopus --enable-librav1e --enable-librist --enable-librubberband --enable-libsnappy --enable-libsrt --enable-libssh --enable-libsvtav1 --enable-libtesseract --enable-libtheora --enable-libvidstab --enable-libvmaf --enable-libvorbis --enable-libvpx --enable-libwebp --enable-libx264 --enable-libx265 --enable-libxml2 --enable-libxvid --enable-lzma --enable-libfontconfig --enable-libfreetype --enable-frei0r --enable-libass --enable-libopencore-amrnb --enable-libopencore-amrwb --enable-libopenjpeg --enable-libspeex --enable-libsoxr --enable-libzmq --enable-libzimg --disable-libjack --disable-indev=jack --enable-videotoolbox --enable-audiotoolbox --enable-neon\n  libavutil      60.  8.100 / 60.  8.100\n  libavcodec     62. 11.100 / 62. 11.100\n  libavformat    62.  3.100 / 62.  3.100\n  libavdevice    62.  1.100 / 62.  1.100\n  libavfilter    11.  4.100 / 11.  4.100\n  libswscale      9.  1.100 /  9.  1.100\n  libswresample   6.  1.100 /  6.  1.100\n[in#0 @ 0x14662d5b0] Error opening input: No such file or directory\nError opening input file sampleplay.mp3.\nError opening input files: No such file or directory\n"
     ]
    }
   ],
   "source": [
    "from speech import transcribe_audio\\\n",
    "\n",
    "text = transcribe_audio(\"sampleplay.mp3\")\n",
    "print(text)\n",
    "\n"
   ]
  },
  {
   "cell_type": "code",
   "execution_count": 5,
   "metadata": {},
   "outputs": [
    {
     "name": "stdout",
     "output_type": "stream",
     "text": [
      "bases Neil Misses one\n"
     ]
    }
   ],
   "source": [
    "from speech import clean_transcript\n",
    "\n",
    "broken_text = \"Basis Neal Mrs won\"\n",
    "\n",
    "cleaned_text = clean_transcript(broken_text)\n",
    "\n",
    "print(cleaned_text)"
   ]
  },
  {
   "cell_type": "code",
   "execution_count": 6,
   "metadata": {},
   "outputs": [
    {
     "name": "stdout",
     "output_type": "stream",
     "text": [
      "bases Neil Misses one\n"
     ]
    }
   ],
   "source": [
    "from speech import clean_transcript\n",
    "\n",
    "broken_text = \"Basis Neal Mrs won\"\n",
    "\n",
    "cleaned_text = clean_transcript(broken_text)\n",
    "\n",
    "print(cleaned_text)"
   ]
  },
  {
   "cell_type": "code",
   "execution_count": 1,
   "metadata": {},
   "outputs": [
    {
     "name": "stderr",
     "output_type": "stream",
     "text": [
      "/Users/neil/Library/Python/3.9/lib/python/site-packages/urllib3/__init__.py:35: NotOpenSSLWarning: urllib3 v2 only supports OpenSSL 1.1.1+, currently the 'ssl' module is compiled with 'LibreSSL 2.8.3'. See: https://github.com/urllib3/urllib3/issues/3020\n",
      "  warnings.warn(\n"
     ]
    },
    {
     "name": "stdout",
     "output_type": "stream",
     "text": [
      "INPUT: Marcus takes a ball. Count: 1-0. Bases empty. No outs. Score: 0-0.\n",
      "{\n",
      "  \"play_type\": \"ball\",\n",
      "  \"batter\": \"Marcus\",\n",
      "  \"pitcher\": null,\n",
      "  \"balls\": 1,\n",
      "  \"strikes\": 0,\n",
      "  \"runners\": [],\n",
      "  \"outs_made\": 0,\n",
      "  \"runs_scored\": 0,\n",
      "  \"bases_after\": null,\n",
      "  \"at_bat_complete\": false,\n",
      "  \"error\": null,\n",
      "  \"notes\": null,\n",
      "  \"raw_transcript\": null,\n",
      "  \"confidence\": null\n",
      "}\n",
      "============================================================\n",
      "INPUT: Marcus swings and misses. Count: 1-1. Bases empty. No outs. Score: 0-0.\n",
      "{\n",
      "  \"play_type\": \"swinging_strike\",\n",
      "  \"batter\": \"Marcus\",\n",
      "  \"pitcher\": null,\n",
      "  \"balls\": 1,\n",
      "  \"strikes\": 1,\n",
      "  \"runners\": [],\n",
      "  \"outs_made\": 0,\n",
      "  \"runs_scored\": 0,\n",
      "  \"bases_after\": null,\n",
      "  \"at_bat_complete\": false,\n",
      "  \"error\": null,\n",
      "  \"notes\": null,\n",
      "  \"raw_transcript\": null,\n",
      "  \"confidence\": null\n",
      "}\n",
      "============================================================\n",
      "INPUT: Jessica hits a single. Count: 0-0. Bases empty. No outs. Score: 0-0.\n",
      "{\n",
      "  \"play_type\": \"single\",\n",
      "  \"batter\": \"Jessica\",\n",
      "  \"pitcher\": null,\n",
      "  \"balls\": 0,\n",
      "  \"strikes\": 0,\n",
      "  \"runners\": [\n",
      "    {\n",
      "      \"player\": \"Jessica\",\n",
      "      \"start_base\": \"none\",\n",
      "      \"end_base\": \"first\"\n",
      "    }\n",
      "  ],\n",
      "  \"outs_made\": 0,\n",
      "  \"runs_scored\": 0,\n",
      "  \"bases_after\": null,\n",
      "  \"at_bat_complete\": true,\n",
      "  \"error\": null,\n",
      "  \"notes\": null,\n",
      "  \"raw_transcript\": null,\n",
      "  \"confidence\": null\n",
      "}\n",
      "============================================================\n",
      "INPUT: Marcus grounds into a double play. Count: 0-0. Runner on first: Jessica. No outs. Score: 0-0.\n",
      "{\n",
      "  \"play_type\": \"ground_out\",\n",
      "  \"batter\": \"Marcus\",\n",
      "  \"pitcher\": null,\n",
      "  \"balls\": 0,\n",
      "  \"strikes\": 0,\n",
      "  \"runners\": [\n",
      "    {\n",
      "      \"player\": \"Jessica\",\n",
      "      \"start_base\": \"first\",\n",
      "      \"end_base\": \"none\"\n",
      "    }\n",
      "  ],\n",
      "  \"outs_made\": 1,\n",
      "  \"runs_scored\": 0,\n",
      "  \"bases_after\": null,\n",
      "  \"at_bat_complete\": true,\n",
      "  \"error\": null,\n",
      "  \"notes\": null,\n",
      "  \"raw_transcript\": null,\n",
      "  \"confidence\": null\n",
      "}\n",
      "============================================================\n",
      "INPUT: Chen flies out to deep center field. Count: 0-0. Runner on third: Sarah. 1 out. Score: 2-0.\n",
      "{\n",
      "  \"play_type\": \"fly_out\",\n",
      "  \"batter\": \"Chen\",\n",
      "  \"pitcher\": null,\n",
      "  \"balls\": 0,\n",
      "  \"strikes\": 0,\n",
      "  \"runners\": [\n",
      "    {\n",
      "      \"player\": \"Sarah\",\n",
      "      \"start_base\": \"third\",\n",
      "      \"end_base\": \"home\"\n",
      "    }\n",
      "  ],\n",
      "  \"outs_made\": 1,\n",
      "  \"runs_scored\": 1,\n",
      "  \"bases_after\": null,\n",
      "  \"at_bat_complete\": true,\n",
      "  \"error\": null,\n",
      "  \"notes\": null,\n",
      "  \"raw_transcript\": null,\n",
      "  \"confidence\": null\n",
      "}\n",
      "============================================================\n"
     ]
    }
   ],
   "source": [
    "from parse_play import parse_transcript\n",
    "\n",
    "tests = [\n",
    "    \"Marcus takes a ball. Count: 1-0. Bases empty. No outs. Score: 0-0.\",\n",
    "    \"Marcus swings and misses. Count: 1-1. Bases empty. No outs. Score: 0-0.\",\n",
    "    \"Jessica hits a single. Count: 0-0. Bases empty. No outs. Score: 0-0.\",\n",
    "    \"Marcus grounds into a double play. Count: 0-0. Runner on first: Jessica. No outs. Score: 0-0.\",\n",
    "    \"Chen flies out to deep center field. Count: 0-0. Runner on third: Sarah. 1 out. Score: 2-0.\",\n",
    "]\n",
    "\n",
    "for t in tests:\n",
    "    print(\"INPUT:\", t)\n",
    "    play = parse_transcript(t)\n",
    "    print(play.model_dump_json(indent=2))\n",
    "    print(\"=\" * 60)"
   ]
  },
  {
   "cell_type": "code",
   "execution_count": 3,
   "metadata": {},
   "outputs": [
    {
     "name": "stdout",
     "output_type": "stream",
     "text": [
      "INPUT: Marcus takes a ball. Count: 1-0. Bases empty. No outs. Score: 0-0.\n",
      "AWAY: 0 | HOME: 0 | Inning: Top 1, Count: 1-0, Outs: 0 | Bases empty\n",
      "\n",
      "\n",
      "INPUT: Marcus swings and misses. Count: 1-1. Bases empty. No outs. Score: 0-0.\n",
      "AWAY: 0 | HOME: 0 | Inning: Top 1, Count: 1-1, Outs: 0 | Bases empty\n",
      "\n",
      "\n",
      "INPUT: Jessica hits a single. Count: 0-0. Bases empty. No outs. Score: 0-0.\n",
      "AWAY: 0 | HOME: 0 | Inning: Top 1, Count: 0-0, Outs: 0 | first: Jessica\n",
      "\n",
      "\n",
      "INPUT: Marcus grounds into a double play. Count: 0-0. Runner on first: Jessica. No outs. Score: 0-0.\n",
      "AWAY: 0 | HOME: 0 | Inning: Top 1, Count: 0-0, Outs: 1 | Bases empty\n",
      "\n",
      "\n",
      "INPUT: Chen flies out to deep center field. Count: 0-0. Runner on third: Sarah. 1 out. Score: 2-0.\n",
      "AWAY: 1 | HOME: 0 | Inning: Top 1, Count: 0-0, Outs: 2 | Bases empty\n",
      "\n",
      "\n"
     ]
    }
   ],
   "source": [
    "from parse_play import parse_transcript\n",
    "from gamestate import GameState\n",
    "\n",
    "\n",
    "tests = [\n",
    "    \"Marcus takes a ball. Count: 1-0. Bases empty. No outs. Score: 0-0.\",\n",
    "    \"Marcus swings and misses. Count: 1-1. Bases empty. No outs. Score: 0-0.\",\n",
    "    \"Jessica hits a single. Count: 0-0. Bases empty. No outs. Score: 0-0.\",\n",
    "    \"Marcus grounds into a double play. Count: 0-0. Runner on first: Jessica. No outs. Score: 0-0.\",\n",
    "    \"Chen flies out to deep center field. Count: 0-0. Runner on third: Sarah. 1 out. Score: 2-0.\",\n",
    "]\n",
    "game = GameState(home_team = \"HOME\", away_team = \"AWAY\")\n",
    "for t in tests:\n",
    "    print(\"INPUT:\", t)\n",
    "    play = parse_transcript(t)\n",
    "    game.update(play)\n",
    "    print(game)\n",
    "    print(\"\\n\")"
   ]
  },
  {
   "cell_type": "code",
   "execution_count": 4,
   "metadata": {},
   "outputs": [
    {
     "name": "stdout",
     "output_type": "stream",
     "text": [
      "INPUT: Marcus takes a ball. Count: 1-0. Bases empty. No outs. Score: 0-0.\n",
      "AWAY: 0 | HOME: 0 | Inning: Top 1, Count: 1-0, Outs: 0 | Bases empty\n",
      "\n",
      "\n",
      "INPUT: Jessica hits a single. Count: 0-0. Bases empty. No outs. Score: 0-0.\n",
      "AWAY: 0 | HOME: 0 | Inning: Top 1, Count: 0-0, Outs: 0 | first: Jessica\n",
      "\n",
      "\n",
      "INPUT: Marcus grounds out. Jessica is out at second. Count: 0-0. Runner on first: Jessica. No outs. Score: 0-0.\n",
      "AWAY: 0 | HOME: 0 | Inning: Top 1, Count: 0-0, Outs: 1 | first: Jessica\n",
      "\n",
      "\n",
      "INPUT: Chen draws a walk. Count: 0-0. Bases empty. 2 outs. Score: 0-0.\n",
      "AWAY: 0 | HOME: 0 | Inning: Top 1, Count: 0-0, Outs: 2 | first: Jessica\n",
      "\n",
      "\n"
     ]
    }
   ],
   "source": [
    "from parse_play import parse_transcript\n",
    "from gamestate import GameState\n",
    "\n",
    "# Mini game test sequence\n",
    "tests = [\n",
    "    # 1. Ball to start the at-bat\n",
    "    \"Marcus takes a ball. Count: 1-0. Bases empty. No outs. Score: 0-0.\",\n",
    "    \n",
    "    # 2. Single hit by Jessica\n",
    "    \"Jessica hits a single. Count: 0-0. Bases empty. No outs. Score: 0-0.\",\n",
    "    \n",
    "    # 3. Ground ball resulting in double play: Marcus and Jessica out\n",
    "    \"Marcus grounds out. Jessica is out at second. Count: 0-0. Runner on first: Jessica. No outs. Score: 0-0.\",\n",
    "    \n",
    "    # 4. Walk by Chen\n",
    "    \"Chen draws a walk. Count: 0-0. Bases empty. 2 outs. Score: 0-0.\"\n",
    "]\n",
    "\n",
    "# Initialize game\n",
    "game = GameState(home_team=\"HOME\", away_team=\"AWAY\")\n",
    "\n",
    "# Apply plays\n",
    "for t in tests:\n",
    "    print(\"INPUT:\", t)\n",
    "    play = parse_transcript(t)\n",
    "    game.update(play)\n",
    "    print(game)\n",
    "    print(\"\\n\")\n"
   ]
  },
  {
   "cell_type": "code",
   "execution_count": 5,
   "metadata": {},
   "outputs": [
    {
     "name": "stdout",
     "output_type": "stream",
     "text": [
      "INPUT: Jessica hits a single. Count: 0-0. Bases empty. 0 outs. Score: 0-0.\n",
      "AWAY: 0 | HOME: 0 | Inning: Top 1, Count: 0-0, Outs: 0 | first: Jessica\n",
      "\n",
      "\n",
      "INPUT: Marcus grounds out. Jessica is out at second. Count: 0-0. Runner on first: Jessica. 2 outs. Score: 0-0.\n",
      "AWAY: 0 | HOME: 0 | Inning: Top 1, Count: 0-0, Outs: 1 | first: Jessica\n",
      "\n",
      "\n",
      "INPUT: Chen draws a walk. Count: 0-0. Bases empty. 2 outs. Score: 0-0.\n",
      "AWAY: 0 | HOME: 0 | Inning: Top 1, Count: 0-0, Outs: 1 | first: Jessica\n",
      "\n",
      "\n"
     ]
    }
   ],
   "source": [
    "from parse_play import parse_transcript\n",
    "from gamestate import GameState\n",
    "\n",
    "# 4-play test sequence with a double play\n",
    "tests = [\n",
    "    \"Marcus grounds out. Count: 0-0. Runner on first: Jessica. 2 outs. Score: 0-0. \"\n",
    "    \"Current game state - Count: 0-0, Outs: 1, Runners: first: Jessica\"\n",
    "]\n",
    "\n",
    "# Initialize game\n",
    "game = GameState(home_team=\"HOME\", away_team=\"AWAY\")\n",
    "\n",
    "# Apply plays\n",
    "for t in tests:\n",
    "    print(\"INPUT:\", t)\n",
    "    play = parse_transcript(t)\n",
    "    game.update(play)\n",
    "    print(game)\n",
    "    print(\"\\n\")\n"
   ]
  },
  {
   "cell_type": "code",
   "execution_count": 6,
   "metadata": {},
   "outputs": [
    {
     "name": "stdout",
     "output_type": "stream",
     "text": [
      "\n",
      "--- Play 1 Transcript ---\n",
      "Jessica walks. Count 0-0. Runner on first: Jessica. No outs. Score away 0 home 0.\n",
      "\n",
      "Parsed Play JSON:\n",
      "{\n",
      "  \"play_type\": \"walk\",\n",
      "  \"batter\": \"Jessica\",\n",
      "  \"pitcher\": null,\n",
      "  \"balls\": 0,\n",
      "  \"strikes\": 0,\n",
      "  \"runners\": [\n",
      "    {\n",
      "      \"player\": \"Jessica\",\n",
      "      \"start_base\": \"none\",\n",
      "      \"end_base\": \"first\"\n",
      "    }\n",
      "  ],\n",
      "  \"outs_made\": 0,\n",
      "  \"runs_scored\": 0,\n",
      "  \"bases_after\": null,\n",
      "  \"at_bat_complete\": true,\n",
      "  \"error\": null,\n",
      "  \"notes\": null,\n",
      "  \"raw_transcript\": null,\n",
      "  \"confidence\": null\n",
      "}\n",
      "\n",
      "Updated Game State:\n",
      "AWAY: 0 | HOME: 0 | Inning: Top 1, Count: 0-0, Outs: 0 | first: Jessica\n",
      "\n",
      "--- Play 2 Transcript ---\n",
      "Marcus grounds into double play. Marcus out at first. Jessica out at second. Count 0-0. Bases empty. 2 outs. Score away 0 home 0.\n",
      "\n",
      "Parsed Play JSON:\n",
      "{\n",
      "  \"play_type\": \"ground_out\",\n",
      "  \"batter\": \"Marcus\",\n",
      "  \"pitcher\": null,\n",
      "  \"balls\": 0,\n",
      "  \"strikes\": 0,\n",
      "  \"runners\": [],\n",
      "  \"outs_made\": 1,\n",
      "  \"runs_scored\": 0,\n",
      "  \"bases_after\": null,\n",
      "  \"at_bat_complete\": true,\n",
      "  \"error\": null,\n",
      "  \"notes\": null,\n",
      "  \"raw_transcript\": null,\n",
      "  \"confidence\": null\n",
      "}\n",
      "\n",
      "Updated Game State:\n",
      "AWAY: 0 | HOME: 0 | Inning: Top 1, Count: 0-0, Outs: 1 | first: Jessica\n"
     ]
    }
   ],
   "source": [
    "# test_game.py\n",
    "from gamestate import GameState\n",
    "from parse_play import parse_transcript\n",
    "\n",
    "# Initialize game\n",
    "game = GameState(home_team=\"HOME\", away_team=\"AWAY\")\n",
    "\n",
    "# Example transcripts (post-play state format)\n",
    "transcripts = [\n",
    "    # Play 1: Jessica walks → on first\n",
    "    \"Jessica walks. Count 0-0. Runner on first: Jessica. No outs. Score away 0 home 0.\",\n",
    "    \n",
    "    # Play 2: Marcus grounds into double play → both batter and runner out\n",
    "    \"Marcus grounds into double play. Marcus out at first. Jessica out at second. Count 0-0. Bases empty. 2 outs. Score away 0 home 0.\"\n",
    "]\n",
    "\n",
    "# Loop through plays, parse, update, and print\n",
    "for i, t in enumerate(transcripts, 1):\n",
    "    print(f\"\\n--- Play {i} Transcript ---\")\n",
    "    print(t)\n",
    "    \n",
    "    # Parse the play\n",
    "    play = parse_transcript(t)\n",
    "    print(f\"\\nParsed Play JSON:\")\n",
    "    print(play.model_dump_json(indent=2))\n",
    "    \n",
    "    # Update game state\n",
    "    try:\n",
    "        game.update(play)\n",
    "        print(\"\\nUpdated Game State:\")\n",
    "        print(game)\n",
    "    except ValueError as e:\n",
    "        print(f\"Error applying play: {e}\")\n",
    "\n",
    "    "
   ]
  },
  {
   "cell_type": "code",
   "execution_count": null,
   "metadata": {},
   "outputs": [],
   "source": []
  }
 ],
 "metadata": {
  "kernelspec": {
   "display_name": "Python 3",
   "language": "python",
   "name": "python3"
  },
  "language_info": {
   "codemirror_mode": {
    "name": "ipython",
    "version": 3
   },
   "file_extension": ".py",
   "mimetype": "text/x-python",
   "name": "python",
   "nbconvert_exporter": "python",
   "pygments_lexer": "ipython3",
   "version": "3.9.6"
  }
 },
 "nbformat": 4,
 "nbformat_minor": 2
}
